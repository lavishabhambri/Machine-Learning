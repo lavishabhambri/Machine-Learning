{
  "nbformat": 4,
  "nbformat_minor": 0,
  "metadata": {
    "kernelspec": {
      "display_name": "Python 3",
      "language": "python",
      "name": "python3"
    },
    "language_info": {
      "codemirror_mode": {
        "name": "ipython",
        "version": 3
      },
      "file_extension": ".py",
      "mimetype": "text/x-python",
      "name": "python",
      "nbconvert_exporter": "python",
      "pygments_lexer": "ipython3",
      "version": "3.7.6"
    },
    "colab": {
      "name": "Feature Scaling_Coding Ninjas.ipynb",
      "provenance": [],
      "include_colab_link": true
    }
  },
  "cells": [
    {
      "cell_type": "markdown",
      "metadata": {
        "id": "view-in-github",
        "colab_type": "text"
      },
      "source": [
        "<a href=\"https://colab.research.google.com/github/lavishabhambri/Machine-Learning/blob/master/Feature_Scaling_Coding_Ninjas.ipynb\" target=\"_parent\"><img src=\"https://colab.research.google.com/assets/colab-badge.svg\" alt=\"Open In Colab\"/></a>"
      ]
    },
    {
      "cell_type": "code",
      "metadata": {
        "id": "Kh7Fuxs7K5B5",
        "colab_type": "code",
        "colab": {}
      },
      "source": [
        "import numpy as np\n",
        "from sklearn import preprocessing"
      ],
      "execution_count": null,
      "outputs": []
    },
    {
      "cell_type": "code",
      "metadata": {
        "id": "I5Pg4FH9K5CC",
        "colab_type": "code",
        "colab": {}
      },
      "source": [
        "X = np.array([[1, -1, 2],\n",
        "             [2, 0, 0],\n",
        "             [0, 1, -1]])"
      ],
      "execution_count": null,
      "outputs": []
    },
    {
      "cell_type": "markdown",
      "metadata": {
        "id": "bcpIlCy1K5CH",
        "colab_type": "text"
      },
      "source": [
        "# Scale "
      ]
    },
    {
      "cell_type": "markdown",
      "metadata": {
        "id": "jYdfnRSAK5CI",
        "colab_type": "text"
      },
      "source": [
        "This makes mean = 0 and variance = 1. But this fits the one data only at a time."
      ]
    },
    {
      "cell_type": "code",
      "metadata": {
        "id": "PwTD38W6K5CJ",
        "colab_type": "code",
        "colab": {}
      },
      "source": [
        "X_scaled = preprocessing.scale(X)"
      ],
      "execution_count": null,
      "outputs": []
    },
    {
      "cell_type": "code",
      "metadata": {
        "id": "XcjVgn_pK5CQ",
        "colab_type": "code",
        "colab": {},
        "outputId": "a34f5704-6715-4462-c1c1-22434f43c8d2"
      },
      "source": [
        "print(X_scaled.mean(axis = 0))\n",
        "print(X_scaled.std(axis = 0))"
      ],
      "execution_count": null,
      "outputs": [
        {
          "output_type": "stream",
          "text": [
            "[0. 0. 0.]\n",
            "[1. 1. 1.]\n"
          ],
          "name": "stdout"
        }
      ]
    },
    {
      "cell_type": "markdown",
      "metadata": {
        "id": "CO5ADZwSK5CX",
        "colab_type": "text"
      },
      "source": [
        "# Standard Scale"
      ]
    },
    {
      "cell_type": "markdown",
      "metadata": {
        "id": "F8Zo-qXUK5CY",
        "colab_type": "text"
      },
      "source": [
        "This makes mean = 0 and variance = 1 and can be fit on other data by making the object."
      ]
    },
    {
      "cell_type": "code",
      "metadata": {
        "id": "i03TnFBBK5CZ",
        "colab_type": "code",
        "colab": {},
        "outputId": "93c80026-ff6e-4683-8cd9-c1f34ddd8d60"
      },
      "source": [
        "scaler = preprocessing.StandardScaler()\n",
        "scaler.fit(X)"
      ],
      "execution_count": null,
      "outputs": [
        {
          "output_type": "execute_result",
          "data": {
            "text/plain": [
              "StandardScaler()"
            ]
          },
          "metadata": {
            "tags": []
          },
          "execution_count": 8
        }
      ]
    },
    {
      "cell_type": "code",
      "metadata": {
        "id": "M2p36WBFK5Ce",
        "colab_type": "code",
        "colab": {},
        "outputId": "d60e135d-6ea3-40d3-af6d-9bfabf49f9b1"
      },
      "source": [
        "X_test = [[1, 1, 0]]\n",
        "scaler.transform(X_test)"
      ],
      "execution_count": null,
      "outputs": [
        {
          "output_type": "execute_result",
          "data": {
            "text/plain": [
              "array([[ 0.        ,  1.22474487, -0.26726124]])"
            ]
          },
          "metadata": {
            "tags": []
          },
          "execution_count": 9
        }
      ]
    }
  ]
}